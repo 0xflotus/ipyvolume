{
 "cells": [
  {
   "cell_type": "code",
   "execution_count": 154,
   "metadata": {
    "scrolled": true
   },
   "outputs": [
    {
     "data": {
      "application/vnd.jupyter.widget-view+json": {
       "model_id": "85d781df0a4248b79d42992e2d1738a3",
       "version_major": 2,
       "version_minor": 0
      },
      "text/plain": [
       "Box(children=(Box(children=(Label(value='Choose size:'), FloatSlider(value=5.0, max=10.0, readout_format='d', …"
      ]
     },
     "metadata": {},
     "output_type": "display_data"
    }
   ],
   "source": [
    "from ipywidgets import Layout, Button, Box, FloatText, Textarea, Dropdown, Label, FloatSlider\n",
    "\n",
    "form_item_layout = Layout(\n",
    "    display='flex',\n",
    "    flex_flow='row',\n",
    "    justify_content='space-between'\n",
    ")\n",
    "\n",
    "selected_size =  FloatSlider(value=5, min=0, max=10, step=1, disabled=False,\n",
    "                 continuous_update=True,orientation='horizontal', readout=True, readout_format='d')\n",
    "select_color = ColorPicker(concise=False, value='red', disabled=False)\n",
    "opacity = FloatSlider(value=0.5, min=0.0, max=10.0, step=0.1, disabled=False,\n",
    "                 continuous_update=True,orientation='horizontal', readout=True, readout_format='d')\n",
    "brightness = FloatSlider(value=0.5, min=0.0, max=10.0, step=0.1, disabled=False,\n",
    "                 continuous_update=True,orientation='horizontal', readout=True, readout_format='d')\n",
    "\n",
    "form_items = [\n",
    "    Box([Label(value='Choose size:'), selected_size], layout=form_item_layout),\n",
    "    Box([Label(value='Pick a color'), select_color], layout=form_item_layout),\n",
    "    Box([Label(value='Choose opacity level:'), opacity], layout=form_item_layout),\n",
    "    Box([Label(value='Choose brightness level'), brightness], layout=form_item_layout)\n",
    "            ]\n",
    "\n",
    "form = Box(form_items, layout=Layout(\n",
    "    display='flex',\n",
    "    flex_flow='column',\n",
    "    border='solid 2px',\n",
    "    align_items='stretch',\n",
    "    width='50%'\n",
    "))\n",
    "form\n",
    "\n",
    "\n",
    "\n",
    "\n",
    "\n",
    "      "
   ]
  },
  {
   "cell_type": "code",
   "execution_count": 128,
   "metadata": {},
   "outputs": [
    {
     "data": {
      "application/vnd.jupyter.widget-view+json": {
       "model_id": "589933449bba4f5b93b0d3f5037ebd1e",
       "version_major": 2,
       "version_minor": 0
      },
      "text/plain": [
       "interactive(children=(FloatSlider(value=5.0, description='Choose size for x:', max=10.0, readout_format='d', s…"
      ]
     },
     "metadata": {},
     "output_type": "display_data"
    },
    {
     "data": {
      "application/vnd.jupyter.widget-view+json": {
       "model_id": "14c8f57fc53e41e68b9a82e6da8c401d",
       "version_major": 2,
       "version_minor": 0
      },
      "text/plain": [
       "FloatSlider(value=5.0, description='Change size:', max=10.0, readout_format='d', step=1.0)"
      ]
     },
     "metadata": {},
     "output_type": "display_data"
    },
    {
     "data": {
      "text/plain": [
       "5.0"
      ]
     },
     "metadata": {},
     "output_type": "display_data"
    }
   ],
   "source": [
    "import ipywidgets as widgets\n",
    "from ipywidgets import interact, interactive, fixed, interact_manual\n",
    "\n",
    "\n",
    "#Changing size axes\n",
    "\n",
    "x_size = FloatSlider(value=5, min=0, max=10, step=1, description='Choose size for x:', disabled=False,\n",
    "                 continuous_update=True,orientation='horizontal', readout=True, readout_format='d')\n",
    "\n",
    "y_size = FloatSlider(value=5, min=0, max=10, step=1, description='Choose size for y:', disabled=False,\n",
    "                 continuous_update=True,orientation='horizontal', readout=True, readout_format='d')\n",
    "\n",
    "z_size = FloatSlider(value=5, min=0, max=10, step=1, description='Choose size for z:', disabled=False,\n",
    "                 continuous_update=True,orientation='horizontal', readout=True, readout_format='d')\n",
    "\n",
    "def update_axes_range(*args):\n",
    "    #change size \n",
    "    #multiplier_x = 2.0\n",
    "    #multiplier_y = 3.0\n",
    "    #multiplier_z = 4.0\n",
    "    x_size.max = multiplier_x * y_size.value\n",
    "    z_size.max = multiplier_z * y_size.value\n",
    "y_size.observe(update_axes_range, 'value')\n",
    "\n",
    "def printer(x, y, z):\n",
    "    print(x, y, z)\n",
    "      \n",
    "widgets.interact(printer,x=x_size, y=y_size, z=z_size);\n",
    "\n",
    "\n",
    "#Changing size \n",
    "\n",
    "selected_size =  FloatSlider(value=5, min=0, max=10, step=1, description='Change size:', disabled=False,\n",
    "                 continuous_update=True,orientation='horizontal', readout=True, readout_format='d')\n",
    "\n",
    "display(selected_size, selected_size.value)\n",
    "\n",
    "\n",
    "\n",
    "\n",
    "\n",
    "\n"
   ]
  },
  {
   "cell_type": "code",
   "execution_count": 139,
   "metadata": {},
   "outputs": [
    {
     "data": {
      "application/vnd.jupyter.widget-view+json": {
       "model_id": "650e7b9a51e1458ba0d0b9ede74f9aef",
       "version_major": 2,
       "version_minor": 0
      },
      "text/plain": [
       "interactive(children=(ColorPicker(value='red', description='Pick a color'), ColorPicker(value='green', descrip…"
      ]
     },
     "metadata": {},
     "output_type": "display_data"
    },
    {
     "data": {
      "text/plain": [
       "<function __main__.color_display(First_color, Second_color)>"
      ]
     },
     "execution_count": 139,
     "metadata": {},
     "output_type": "execute_result"
    }
   ],
   "source": [
    "import ipywidgets as widgets\n",
    "from ipywidgets import interact, interactive, fixed, interact_manual\n",
    "\n",
    "#select a color for plot  \n",
    "select_color1 = ColorPicker(concise=False, description='Pick a color', value='red', disabled=False)\n",
    "select_color2 = ColorPicker(concise=False, description='Pick a color', value='green', disabled=False)\n",
    "\n",
    "def color_display(First_color, Second_color):\n",
    "    display(First_color, Second_color)  \n",
    " \n",
    "widgets.interact(color_display(), First_color = select_color1, Second_color = select_color2)"
   ]
  },
  {
   "cell_type": "code",
   "execution_count": 153,
   "metadata": {},
   "outputs": [
    {
     "data": {
      "application/vnd.jupyter.widget-view+json": {
       "model_id": "ba6cf680a02240d8b04835534551dd0d",
       "version_major": 2,
       "version_minor": 0
      },
      "text/plain": [
       "FloatSlider(value=0.5, description='Choose opacity level:', max=10.0, readout_format='d')"
      ]
     },
     "metadata": {},
     "output_type": "display_data"
    },
    {
     "data": {
      "application/vnd.jupyter.widget-view+json": {
       "model_id": "936b7817b5a546a795ab188883503250",
       "version_major": 2,
       "version_minor": 0
      },
      "text/plain": [
       "FloatSlider(value=0.5, description='Choose brightness level:', max=10.0, readout_format='d')"
      ]
     },
     "metadata": {},
     "output_type": "display_data"
    }
   ],
   "source": [
    "import ipywidgets as widgets\n",
    "from ipywidgets import interact, interactive, fixed, interact_manual\n",
    "\n",
    "opacity = FloatSlider(value=0.5, min=0.0, max=10.0, step=0.1, description='Choose opacity level:', disabled=False,\n",
    "                 continuous_update=True,orientation='horizontal', readout=True, readout_format='d')\n",
    "brightness = FloatSlider(value=0.5, min=0.0, max=10.0, step=0.1, description='Choose brightness level:', disabled=False,\n",
    "                 continuous_update=True,orientation='horizontal', readout=True, readout_format='d')\n",
    "\n",
    "display(opacity, brightness)"
   ]
  },
  {
   "cell_type": "code",
   "execution_count": null,
   "metadata": {},
   "outputs": [],
   "source": []
  },
  {
   "cell_type": "code",
   "execution_count": null,
   "metadata": {},
   "outputs": [],
   "source": []
  }
 ],
 "metadata": {
  "kernelspec": {
   "display_name": "Python 3",
   "language": "python",
   "name": "python3"
  },
  "language_info": {
   "codemirror_mode": {
    "name": "ipython",
    "version": 3
   },
   "file_extension": ".py",
   "mimetype": "text/x-python",
   "name": "python",
   "nbconvert_exporter": "python",
   "pygments_lexer": "ipython3",
   "version": "3.7.6"
  }
 },
 "nbformat": 4,
 "nbformat_minor": 4
}
