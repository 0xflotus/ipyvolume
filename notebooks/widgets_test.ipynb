{
 "cells": [
  {
   "cell_type": "code",
   "execution_count": 58,
   "metadata": {
    "scrolled": true
   },
   "outputs": [
    {
     "data": {
      "application/vnd.jupyter.widget-view+json": {
       "model_id": "9d57d7917ea24320bba59d6c60f87bd6",
       "version_major": 2,
       "version_minor": 0
      },
      "text/plain": [
       "Tab(children=(ColorPicker(value='green', description='Pick a color'), FloatSlider(value=50.0, description='Adj…"
      ]
     },
     "metadata": {},
     "output_type": "display_data"
    }
   ],
   "source": [
    "from ipywidgets import FloatRangeSlider, Dropdown, FloatSlider, ColorPicker\n",
    "from ipywidgets import widgets\n",
    "\n",
    "select_size = FloatSlider(value=50, min=0, max=100, step=0.1, description='Adjust size:', disabled=False,\n",
    "                 continuous_update=True,orientation='horizontal', readout=True, readout_format='.2f')\n",
    "select_color = ColorPicker(concise=False, description='Pick a color', value='green', disabled=False)\n",
    "opacity = FloatSlider(value=0.75, min=0.00, max=1.0, step=0.01, description='Adjust level:', disabled=False,\n",
    "                 continuous_update=True,orientation='horizontal', readout=True, readout_format='.2f')\n",
    "brightness = FloatSlider(value=0.25, min=0.00, max=1.0, step=0.01, description='Adjust level:', disabled=False,\n",
    "                 continuous_update=True,orientation='horizontal', readout=True, readout_format='.2f')\n",
    "dropdown = Dropdown(options=['NORMAL', 'PHONG', 'PHYSICAL'],value='NORMAL',description='Select:',\n",
    "                disabled=False)\n",
    "cast_shadow = Dropdown(options=[True, False], value=False, description='Select:', disabled=False)\n",
    "range_widget = widgets.FloatRangeSlider( value=[2.25, 7.75], min=0.00, max=10.00, step=0.01, description='Range:',\n",
    "    disabled=False, continuous_update=False, orientation='horizontal', readout=True, readout_format='.2f')\n",
    "\n",
    "#bool_valid = widgets.Valid(value=False, description='Valid!')\n",
    "#toggle_click = widgets.ToggleButton(value=False, description='Click me', disabled=False, button_style= '', tooltip='Description', icon='check')\n",
    "#check = widgets.Checkbox(value=False, description='Check me', disabled=False, indent=False )\n",
    "\n",
    "children = [select_color, select_size, brightness, opacity, dropdown, cast_shadow, range_widget]\n",
    "            #bool_valid, toggle_click, check ]\n",
    "tab = widgets.Tab(children)\n",
    "tab.set_title(0, 'Color')\n",
    "tab.set_title(1, 'Size')\n",
    "tab.set_title(2, 'Brightness')\n",
    "tab.set_title(3, 'Opacity')\n",
    "tab.set_title(4, 'Dropdown')\n",
    "tab.set_title(5, 'Cast shadow')\n",
    "tab.set_title(6, 'Range Widget')\n",
    "#tab.set_title(7, 'Validate')\n",
    "#tab.set_title(8, 'ToggleButton')\n",
    "#tab.set_title(9, 'Check')\n",
    "tab\n",
    "\n"
   ]
  },
  {
   "cell_type": "code",
   "execution_count": 71,
   "metadata": {},
   "outputs": [
    {
     "data": {
      "application/vnd.jupyter.widget-view+json": {
       "model_id": "472ffb98618443d7b4de6dcbcc972e8c",
       "version_major": 2,
       "version_minor": 0
      },
      "text/plain": [
       "interactive(children=(FloatSlider(value=5.0, description='Choose size for x:', max=120.0, readout_format='d', …"
      ]
     },
     "metadata": {},
     "output_type": "display_data"
    },
    {
     "data": {
      "application/vnd.jupyter.widget-view+json": {
       "model_id": "6b08426e94ab476491cc4459b1010dc7",
       "version_major": 2,
       "version_minor": 0
      },
      "text/plain": [
       "FloatSlider(value=5.0, description='Change size:', max=10.0, readout_format='d', step=1.0)"
      ]
     },
     "metadata": {},
     "output_type": "display_data"
    },
    {
     "data": {
      "text/plain": [
       "5.0"
      ]
     },
     "metadata": {},
     "output_type": "display_data"
    }
   ],
   "source": [
    "import ipywidgets as widgets\n",
    "from ipywidgets import interact, interactive, fixed, interact_manual\n",
    "\n",
    "\n",
    "#Change plot size adjusting the size on each axe.\n",
    "\n",
    "x_size = FloatSlider(value=5, min=0, max=120, step=1, description='Choose size for x:', disabled=False,\n",
    "                 continuous_update=True,orientation='horizontal', readout=True, readout_format='d')\n",
    "\n",
    "y_size = FloatSlider(value=5, min=0, max=200, step=1, description='Choose size for y:', disabled=False,\n",
    "                 continuous_update=True,orientation='horizontal', readout=True, readout_format='d')\n",
    "\n",
    "z_size = FloatSlider(value=5, min=0, max=350, step=1, description='Choose size for z:', disabled=False,\n",
    "                 continuous_update=True,orientation='horizontal', readout=True, readout_format='d')\n",
    "    \n",
    "def update_axes_range(*args):\n",
    "    \n",
    "    multiplier_x = 0.5\n",
    "    y_size.max = multiplier_x * x_size.value\n",
    "    z_size.max = multiplier_x * x_size.value \n",
    "    \n",
    "    #multiplier_y = 0.5\n",
    "    #x_size.max = multiplier_y * y_size.value\n",
    "    #z_size.max = multiplier_y * y_size.value\n",
    "    \n",
    "    #multiplier_z = 0.5\n",
    "    #x_size.max = multiplier_z * z_size.value\n",
    "    #y_size.max = multiplier_z * z_size.value\n",
    "    \n",
    "x_size.observe(update_axes_range, 'value')    \n",
    "y_size.observe(update_axes_range, 'value')\n",
    "z_size.observe(update_axes_range, 'value')\n",
    "\n",
    "def printer(x, y, z):\n",
    "    print(x, y, z)\n",
    "      \n",
    "widgets.interact(printer,x=x_size, y=y_size, z=z_size);\n",
    "\n",
    "\n",
    "#Change size using only one param \n",
    "\n",
    "selected_size =  FloatSlider(value=5, min=0, max=10, step=1, description='Change size:', disabled=False,\n",
    "                 continuous_update=True,orientation='horizontal', readout=True, readout_format='d')\n",
    "\n",
    "display(selected_size, selected_size.value)\n",
    "\n",
    "\n",
    "\n"
   ]
  },
  {
   "cell_type": "code",
   "execution_count": 72,
   "metadata": {
    "scrolled": false
   },
   "outputs": [
    {
     "data": {
      "application/vnd.jupyter.widget-view+json": {
       "model_id": "fdff0572e9bb4edc880df35a3ed61071",
       "version_major": 2,
       "version_minor": 0
      },
      "text/plain": [
       "ColorPicker(value='red', description='Pick a color')"
      ]
     },
     "metadata": {},
     "output_type": "display_data"
    },
    {
     "data": {
      "application/vnd.jupyter.widget-view+json": {
       "model_id": "d731a2cdeed04bb29d6e022574119884",
       "version_major": 2,
       "version_minor": 0
      },
      "text/plain": [
       "ColorPicker(value='green', description='Pick a color')"
      ]
     },
     "metadata": {},
     "output_type": "display_data"
    }
   ],
   "source": [
    "import ipywidgets as widgets\n",
    "\n",
    "#select a color for plot  \n",
    "select_color1 = ColorPicker(concise=False, description='Pick a color', value='red', disabled=False)\n",
    "select_color2 = ColorPicker(concise=False, description='Pick a color', value='green', disabled=False)\n",
    "display(select_color1, select_color2)"
   ]
  },
  {
   "cell_type": "code",
   "execution_count": 73,
   "metadata": {},
   "outputs": [
    {
     "data": {
      "application/vnd.jupyter.widget-view+json": {
       "model_id": "76f8768be443482380e9e6153f67b1ca",
       "version_major": 2,
       "version_minor": 0
      },
      "text/plain": [
       "FloatSlider(value=0.5, description='Choose opacity level:', max=10.0, readout_format='d')"
      ]
     },
     "metadata": {},
     "output_type": "display_data"
    },
    {
     "data": {
      "application/vnd.jupyter.widget-view+json": {
       "model_id": "babb94a8149a415e9703816842b6cab6",
       "version_major": 2,
       "version_minor": 0
      },
      "text/plain": [
       "FloatSlider(value=0.5, description='Choose brightness level:', max=10.0, readout_format='d')"
      ]
     },
     "metadata": {},
     "output_type": "display_data"
    }
   ],
   "source": [
    "import ipywidgets as widgets\n",
    "\n",
    "#set opacity and brightness \n",
    "opacity = FloatSlider(value=0.75, min=0.00, max=1.0, step=0.01, description='Adjust level:', disabled=False,\n",
    "                 continuous_update=True,orientation='horizontal', readout=True, readout_format='.2f')\n",
    "brightness = FloatSlider(value=0.25, min=0.00, max=1.0, step=0.01, description='Adjust level:', disabled=False,\n",
    "                 continuous_update=True,orientation='horizontal', readout=True, readout_format='.2f')\n",
    "display(opacity, brightness)"
   ]
  },
  {
   "cell_type": "code",
   "execution_count": 74,
   "metadata": {},
   "outputs": [
    {
     "data": {
      "application/vnd.jupyter.widget-view+json": {
       "model_id": "8713cf5fffee468fabf8952cd7c8f742",
       "version_major": 2,
       "version_minor": 0
      },
      "text/plain": [
       "Box(children=(Box(children=(Label(value='Choose size:'), FloatSlider(value=5.0, max=10.0, readout_format='d', …"
      ]
     },
     "metadata": {},
     "output_type": "display_data"
    }
   ],
   "source": [
    "from ipywidgets import Layout, Button, Box, FloatText, Textarea, Dropdown, Label, FloatSlider\n",
    "\n",
    "form_item_layout = Layout(\n",
    "    display='flex',\n",
    "    flex_flow='row',\n",
    "    justify_content='space-between'\n",
    ")\n",
    "\n",
    "selected_size =  FloatSlider(value=5, min=0, max=10, step=1, disabled=False,\n",
    "                 continuous_update=True,orientation='horizontal', readout=True, readout_format='d')\n",
    "select_color = ColorPicker(concise=False, value='red', disabled=False)\n",
    "opacity = FloatSlider(value=0.5, min=0.0, max=10.0, step=0.1, disabled=False,\n",
    "                 continuous_update=True,orientation='horizontal', readout=True, readout_format='d')\n",
    "brightness = FloatSlider(value=0.5, min=0.0, max=10.0, step=0.1, disabled=False,\n",
    "                 continuous_update=True,orientation='horizontal', readout=True, readout_format='d')\n",
    "\n",
    "form_items = [\n",
    "    Box([Label(value='Choose size:'), selected_size], layout=form_item_layout),\n",
    "    Box([Label(value='Pick a color'), select_color], layout=form_item_layout),\n",
    "    Box([Label(value='Choose opacity level:'), opacity], layout=form_item_layout),\n",
    "    Box([Label(value='Choose brightness level'), brightness], layout=form_item_layout)\n",
    "            ]\n",
    "\n",
    "form = Box(form_items, layout=Layout(\n",
    "    display='flex',\n",
    "    flex_flow='column',\n",
    "    border='solid 2px',\n",
    "    align_items='stretch',\n",
    "    width='50%'\n",
    "))\n",
    "form"
   ]
  },
  {
   "cell_type": "code",
   "execution_count": null,
   "metadata": {},
   "outputs": [],
   "source": []
  }
 ],
 "metadata": {
  "kernelspec": {
   "display_name": "Python 3",
   "language": "python",
   "name": "python3"
  },
  "language_info": {
   "codemirror_mode": {
    "name": "ipython",
    "version": 3
   },
   "file_extension": ".py",
   "mimetype": "text/x-python",
   "name": "python",
   "nbconvert_exporter": "python",
   "pygments_lexer": "ipython3",
   "version": "3.7.6"
  }
 },
 "nbformat": 4,
 "nbformat_minor": 4
}
