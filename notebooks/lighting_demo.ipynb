{
 "cells": [
  {
   "cell_type": "code",
   "execution_count": 3,
   "metadata": {},
   "outputs": [
    {
     "name": "stdout",
     "output_type": "stream",
     "text": [
      "[Mesh(line_material=ShaderMaterial(), material=ShaderMaterial(side='DoubleSide'), texture=None, triangles=array([[   0,   50,   51],\n",
      "       [   0,   51,    1],\n",
      "       [   1,   51,   52],\n",
      "       ...,\n",
      "       [2447, 2498, 2448],\n",
      "       [2448, 2498, 2499],\n",
      "       [2448, 2499, 2449]], dtype=uint32), u=array([0.        , 0.02040816, 0.04081633, ..., 0.95918367, 0.97959184,\n",
      "       1.        ]), v=array([0., 0., 0., ..., 1., 1., 1.]), x=array([8.        , 8.71156903, 9.27378258, ..., 2.26620625, 3.17335636,\n",
      "       4.        ]), y=array([ 0.00000000e+00,  2.30388865e+00,  4.58237413e+00, ...,\n",
      "       -4.05847334e+00, -2.04603459e+00, -3.91886976e-15]), z=array([ 0.00000000e+00,  0.00000000e+00,  0.00000000e+00, ...,\n",
      "       -5.05879616e-16, -4.93880453e-16, -4.89858720e-16])), Mesh(color=array('orange', dtype='<U6'), line_material=ShaderMaterial(), material=ShaderMaterial(side='DoubleSide'), texture=None, triangles=array([[0, 1, 2],\n",
      "       [0, 2, 3]], dtype=uint32), x=array([ 20, -20, -20,  20]), y=array([-15, -15, -15, -15]), z=array([ 20,  20, -20, -20]))]\n"
     ]
    },
    {
     "data": {
      "application/vnd.jupyter.widget-view+json": {
       "model_id": "3ecdbec1b9404eaaab3259df498acabb",
       "version_major": 2,
       "version_minor": 0
      },
      "text/plain": [
       "VBox(children=(Figure(camera=PerspectiveCamera(fov=45.0, position=(0.0, 0.0, 2.0), quaternion=(0.0, 0.0, 0.0, …"
      ]
     },
     "metadata": {},
     "output_type": "display_data"
    },
    {
     "name": "stdout",
     "output_type": "stream",
     "text": [
      "ADD DIRECTIONAL LIGHT (from pylab) \n",
      "light_color: cyan\n",
      "intensity: 1.0\n",
      "position: 100 100 100\n",
      "target: 0 0 0\n",
      "cast_shadow: True\n",
      "shadow_map_size: 512\n",
      "shadow_bias: -0.005\n",
      "shadow_radius: 1\n",
      "shadow_camera_near: 0.5\n",
      "shadow_camera_far: 500\n",
      "ADD DIRECTIONAL LIGHT (from pylab) \n",
      "light_color: orange\n",
      "intensity: 1.0\n",
      "position: -100 100 -100\n",
      "target: 0 0 0\n",
      "cast_shadow: True\n",
      "shadow_map_size: 512\n",
      "shadow_bias: -0.005\n",
      "shadow_radius: 1\n",
      "shadow_camera_near: 0.5\n",
      "shadow_camera_far: 500\n"
     ]
    }
   ],
   "source": [
    "\"\"\"Some examples for quick testing/demonstrations.\n",
    "\n",
    "All function accept `show` and `draw` arguments\n",
    "\n",
    "  * If `draw` is `True` it will return the widgets (Scatter, Volume, Mesh)\n",
    "  * If `draw` is `False`, it will return the data\n",
    "  * if `show` is `False`, `ipv.show()` will not be called.\n",
    "\"\"\"\n",
    "#import sys\n",
    "#sys.path.append(\"..\")\n",
    "import warnings\n",
    "import numpy as np\n",
    "from numpy import cos, sin, pi\n",
    "#import ipyvolume.pylab as p3\n",
    "from ipyvolume import pylab as p3\n",
    "import math\n",
    "from ipywidgets import widgets\n",
    "from ipywidgets import FloatRangeSlider, Dropdown, FloatSlider, ColorPicker\n",
    "from ipywidgets import interact, interactive, fixed, interact_manual\n",
    "\n",
    "try:\n",
    "    import scipy.ndimage\n",
    "    import scipy.special\n",
    "except:\n",
    "    pass  # it's ok, it's not crucial\n",
    "# __all__ = [\"example_ylm\"]\n",
    "\n",
    "def klein_bottle(\n",
    "    draw=True,\n",
    "    show=True,\n",
    "    figure8=False,\n",
    "    endpoint=True,\n",
    "    uv=True,\n",
    "    wireframe=False,\n",
    "    texture=None,\n",
    "    both=False,\n",
    "    interval=1000,\n",
    "):\n",
    "    # http://paulbourke.net/geometry/klein/\n",
    "    u = np.linspace(0, 2 * pi, num=50, endpoint=endpoint)\n",
    "    v = np.linspace(0, 2 * pi, num=50, endpoint=endpoint)\n",
    "    u, v = np.meshgrid(u, v)\n",
    "    r = 4 * (1 - cos(u) / 2)\n",
    "    x = 6 * cos(u) * (1 + sin(u)) + r * cos(u) * cos(v) * (u < pi) + r * cos(v + pi) * (u >= pi)\n",
    "    y = 16 * sin(u) + r * sin(u) * cos(v) * (u < pi)\n",
    "    z = r * sin(v)\n",
    "    mesh = p3.plot_mesh(\n",
    "                x,\n",
    "                y,\n",
    "                z,\n",
    "                wrapx=not endpoint,\n",
    "                wrapy=not endpoint,\n",
    "                u=u / (2 * np.pi),\n",
    "                v=v / (2 * np.pi),\n",
    "                wireframe=wireframe,\n",
    "                texture=texture,\n",
    "            )\n",
    "\n",
    "    return mesh\n",
    "def worldplane(separate_figure=False):\n",
    "    k = 20\n",
    "    h = -15\n",
    "    tx = np.array([k, -k, -k, k])\n",
    "    tz = np.array([k, k, -k, -k])\n",
    "    ty = np.array([h, h, h, h])\n",
    "    \n",
    "    tri = [(0, 1, 2), (0, 2, 3)]\n",
    "    p3.plot_trisurf(tx, ty, tz, triangles=tri, color='orange')\n",
    "    \n",
    "    if separate_figure:\n",
    "        p3.figure()\n",
    "        p3.show()\n",
    "def ambient_light_widget():\n",
    "    selected_size =  FloatSlider(value=5, min=0, max=10, step=1, description='Intensity:', disabled=False,\n",
    "                 continuous_update=True,orientation='horizontal', readout=True, readout_format='d')\n",
    "    selected_color = ColorPicker(concise=False, description='Ambient Color:', value='red', disabled=False)\n",
    "    display(selected_size,selected_color)\n",
    "    #widgets.interact(p3.ambient_light,light_color=selected_color,intensity=selected_size);\n",
    "    print(selected_size.value)\n",
    "    return selected_size\n",
    "\n",
    "def add_lights():\n",
    "    #ambient_light_widget()\n",
    "\n",
    "    #p3.ambient_light(light_color=\"rgb(255,0,0)\", intensity=1.5)\n",
    "\n",
    "    p3.directional_light(light_color='cyan', intensity=1.0, position=[100, 100, 100], target=[0,0,0], cast_shadow=True, shadow_bias= -0.005,shadow_camera_orthographic_size=100)\n",
    "    p3.directional_light(light_color='orange', intensity=1.0, position=[-100, 100, -100], target=[0,0,0], cast_shadow=True, shadow_bias= -0.005,shadow_camera_orthographic_size=100)\n",
    "    #p3.hemisphere_light(light_color='red', color2='yellow', intensity=0.5, position=[1, 0, 0])\n",
    "    #p3.point_light(light_color='orange', intensity=1.0, position=[20, 30, 20], distance=65, decay=0.5, cast_shadow=True,shadow_radius=3,shadow_bias= -0.005)\n",
    "    #p3.spot_light(light_color='yellow', intensity=1, position=[20, 30, 20], angle=math.pi/9, target = [-20,-20,-20], cast_shadow=True,shadow_radius=2)\n",
    "\n",
    "\n",
    "\n",
    "#very important to first call p3.clear()\n",
    "p3.clear()\n",
    "klein_bottle()\n",
    "worldplane()\n",
    "\n",
    "p3.show()\n",
    "add_lights()\n"
   ]
  },
  {
   "cell_type": "code",
   "execution_count": 12,
   "metadata": {},
   "outputs": [
    {
     "data": {
      "application/vnd.jupyter.widget-view+json": {
       "model_id": "ce286e36a3324e04a3346c22448b6505",
       "version_major": 2,
       "version_minor": 0
      },
      "text/plain": [
       "VBox(children=(Figure(camera=PerspectiveCamera(fov=45.0, position=(0.0, 0.0, 2.0), quaternion=(0.0, 0.0, 0.0, …"
      ]
     },
     "metadata": {},
     "output_type": "display_data"
    },
    {
     "data": {
      "application/vnd.jupyter.widget-view+json": {
       "model_id": "ba78c6160cc542dcaff205f33f2968b4",
       "version_major": 2,
       "version_minor": 0
      },
      "text/plain": [
       "Volume(data=array([[[ 1,  1,  1, ...,  1,  1,  1],\n",
       "        [ 1,  1,  1, ...,  1,  1,  1],\n",
       "        [ 1,  1,  1,…"
      ]
     },
     "metadata": {},
     "output_type": "display_data"
    }
   ],
   "source": [
    "def head2(draw=True, show=True, max_shape=256):\n",
    "    \"\"\"Show a volumetric rendering of a human male head.\"\"\"\n",
    "    # inspired by http://graphicsrunner.blogspot.com/2009/01/volume-rendering-102-transfer-functions.html\n",
    "    import ipyvolume as ipv\n",
    "    from scipy.interpolate import interp1d\n",
    "\n",
    "    # First part is a simpler version of setting up the transfer function. Interpolation with higher order\n",
    "    # splines does not work well, the original must do sth different\n",
    "    colors = [[0.91, 0.7, 0.61, 0.0], [0.91, 0.7, 0.61, 80.0], [1.0, 1.0, 0.85, 82.0], [1.0, 1.0, 0.85, 256]]\n",
    "    x = np.array([k[-1] for k in colors])\n",
    "    rgb = np.array([k[:3] for k in colors])\n",
    "    N = 256\n",
    "    xnew = np.linspace(0, 256, N)\n",
    "    tf_data = np.zeros((N, 4))\n",
    "    kind = 'linear'\n",
    "    for channel in range(3):\n",
    "        f = interp1d(x, rgb[:, channel], kind=kind)\n",
    "        ynew = f(xnew)\n",
    "        tf_data[:, channel] = ynew\n",
    "    alphas = [[0, 0], [0, 40], [0.2, 60], [0.05, 63], [0, 80], [0.9, 82], [1.0, 256]]\n",
    "    x = np.array([k[1] * 1.0 for k in alphas])\n",
    "    y = np.array([k[0] * 1.0 for k in alphas])\n",
    "    f = interp1d(x, y, kind=kind)\n",
    "    ynew = f(xnew)\n",
    "    tf_data[:, 3] = ynew\n",
    "    tf = ipv.TransferFunction(rgba=tf_data.astype(np.float32))\n",
    "\n",
    "    head_data = ipv.datasets.head.fetch().data\n",
    "    if draw:\n",
    "        vol = ipv.volshow(head_data, tf=tf, max_shape=max_shape)\n",
    "        if show:\n",
    "            ipv.show()\n",
    "        return vol\n",
    "    else:\n",
    "        return head_data\n",
    "    \n",
    "p3.clear()\n",
    "head2()"
   ]
  },
  {
   "cell_type": "code",
   "execution_count": null,
   "metadata": {},
   "outputs": [],
   "source": []
  },
  {
   "cell_type": "code",
   "execution_count": null,
   "metadata": {},
   "outputs": [],
   "source": []
  },
  {
   "cell_type": "code",
   "execution_count": null,
   "metadata": {},
   "outputs": [],
   "source": []
  }
 ],
 "metadata": {
  "kernelspec": {
   "display_name": "Python 3",
   "language": "python",
   "name": "python3"
  },
  "language_info": {
   "codemirror_mode": {
    "name": "ipython",
    "version": 3
   },
   "file_extension": ".py",
   "mimetype": "text/x-python",
   "name": "python",
   "nbconvert_exporter": "python",
   "pygments_lexer": "ipython3",
   "version": "3.7.4"
  }
 },
 "nbformat": 4,
 "nbformat_minor": 2
}
