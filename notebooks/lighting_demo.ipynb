{
 "cells": [
  {
   "cell_type": "code",
   "execution_count": 96,
   "metadata": {},
   "outputs": [],
   "source": [
    "\"\"\"Some examples for quick testing/demonstrations.\n",
    "\n",
    "All function accept `show` and `draw` arguments\n",
    "\n",
    "  * If `draw` is `True` it will return the widgets (Scatter, Volume, Mesh)\n",
    "  * If `draw` is `False`, it will return the data\n",
    "  * if `show` is `False`, `ipv.show()` will not be called.\n",
    "\"\"\"\n",
    "#import sys\n",
    "#sys.path.append(\"..\")\n",
    "import warnings\n",
    "import numpy as np\n",
    "from numpy import cos, sin, pi\n",
    "#import ipyvolume.pylab as p3\n",
    "from ipyvolume import pylab as p3\n",
    "import math\n",
    "from ipywidgets import widgets\n",
    "from ipywidgets import FloatRangeSlider, Dropdown, FloatSlider, ColorPicker\n",
    "from ipywidgets import interact, interactive, fixed, interact_manual\n",
    "\n",
    "try:\n",
    "    import scipy.ndimage\n",
    "    import scipy.special\n",
    "except:\n",
    "    pass  # it's ok, it's not crucial\n",
    "# __all__ = [\"example_ylm\"]\n",
    "\n",
    "material_lighting_model='PHYSICAL'\n",
    "material_opacity=1\n",
    "material_specular_color='white'\n",
    "material_shininess=10\n",
    "material_emissive_color='black'\n",
    "material_emissive_intensity=1.0\n",
    "material_roughness=0.1\n",
    "material_metalness=0.1\n",
    "material_cast_shadow=True\n",
    "material_receive_shadow=True\n",
    "        \n",
    "def klein_bottle(\n",
    "    draw=True,\n",
    "    show=True,\n",
    "    figure8=False,\n",
    "    endpoint=True,\n",
    "    uv=True,\n",
    "    wireframe=False,\n",
    "    texture=None,\n",
    "    both=False,\n",
    "    interval=1000,\n",
    "):\n",
    "    # http://paulbourke.net/geometry/klein/\n",
    "    u = np.linspace(0, 2 * pi, num=50, endpoint=endpoint)\n",
    "    v = np.linspace(0, 2 * pi, num=50, endpoint=endpoint)\n",
    "    u, v = np.meshgrid(u, v)\n",
    "    r = 4 * (1 - cos(u) / 2)\n",
    "    x = 6 * cos(u) * (1 + sin(u)) + r * cos(u) * cos(v) * (u < pi) + r * cos(v + pi) * (u >= pi)\n",
    "    y = 16 * sin(u) + r * sin(u) * cos(v) * (u < pi)\n",
    "    z = r * sin(v)\n",
    "    mesh = p3.plot_mesh(\n",
    "                x,\n",
    "                y,\n",
    "                z,\n",
    "                #color='blue',\n",
    "                wrapx=not endpoint,\n",
    "                wrapy=not endpoint,\n",
    "                u=u / (2 * np.pi),\n",
    "                v=v / (2 * np.pi),\n",
    "                wireframe=wireframe,\n",
    "                texture=texture,\n",
    "                lighting_model=material_lighting_model,\n",
    "                opacity=material_opacity,\n",
    "                specular_color=material_specular_color,\n",
    "                shininess=material_shininess,\n",
    "                emissive_color=material_emissive_color,\n",
    "                emissive_intensity=material_emissive_intensity,\n",
    "                roughness=material_roughness,\n",
    "                metalness=material_metalness,\n",
    "                cast_shadow=material_cast_shadow,\n",
    "                receive_shadow=material_receive_shadow,\n",
    "            )\n",
    "\n",
    "    return mesh\n",
    "def worldplane():\n",
    "    k = 20\n",
    "    h = -15\n",
    "    tx = np.array([k, -k, -k, k])\n",
    "    tz = np.array([k, k, -k, -k])\n",
    "    ty = np.array([h, h, h, h])\n",
    "    \n",
    "    tri = [(0, 1, 2), (0, 2, 3)]\n",
    "    p3.plot_trisurf(\n",
    "        tx, \n",
    "        ty,\n",
    "        tz, \n",
    "        triangles=tri, \n",
    "        #color='blue', \n",
    "        lighting_model=material_lighting_model,\n",
    "        opacity=material_opacity,\n",
    "        specular_color=material_specular_color,\n",
    "        shininess=material_shininess,\n",
    "        emissive_color=material_emissive_color,\n",
    "        emissive_intensity=material_emissive_intensity,\n",
    "        roughness=material_roughness,\n",
    "        metalness=material_metalness,\n",
    "        cast_shadow=material_cast_shadow,\n",
    "        receive_shadow=material_receive_shadow)\n",
    "    \n",
    "def test_surface():\n",
    "    X = np.arange(-10, 10, 0.25*1)-10\n",
    "    Y = np.arange(-10, 10, 0.25*1)\n",
    "    X, Y = np.meshgrid(X, Y)\n",
    "    R = np.sqrt(X**2 + Y**2)\n",
    "    Z = np.sin(R)\n",
    "\n",
    "    p3.plot_surface(\n",
    "        X+10, \n",
    "        Z-10, \n",
    "        Y+5, \n",
    "        color=\"orange\",\n",
    "        lighting_model=material_lighting_model,\n",
    "        opacity=material_opacity,\n",
    "        specular_color=material_specular_color,\n",
    "        shininess=material_shininess,\n",
    "        emissive_color=material_emissive_color,\n",
    "        emissive_intensity=material_emissive_intensity,\n",
    "        roughness=material_roughness,\n",
    "        metalness=material_metalness,\n",
    "        cast_shadow=material_cast_shadow,\n",
    "        receive_shadow=material_receive_shadow,)\n",
    "\n",
    "    \n",
    "def ambient_light_widget():\n",
    "    selected_size =  FloatSlider(value=5, min=0, max=10, step=1, description='Intensity:', disabled=False,\n",
    "                 continuous_update=True,orientation='horizontal', readout=True, readout_format='d')\n",
    "    selected_color = ColorPicker(concise=False, description='Ambient Color:', value='red', disabled=False)\n",
    "    display(selected_size,selected_color)\n",
    "    #widgets.interact(p3.ambient_light,light_color=selected_color,intensity=selected_size);\n",
    "    print(selected_size.value)\n",
    "    return selected_size\n",
    "\n",
    "\n",
    "def plot_all(kb=False, wp=True, ts=False):\n",
    "    p3.clear()\n",
    "    p3.figure()\n",
    "    if kb:\n",
    "        klein_bottle()\n",
    "    if wp:\n",
    "        worldplane()\n",
    "    if ts:\n",
    "        test_surface()\n",
    "    p3.show()\n",
    "\n",
    "\n",
    "\n"
   ]
  },
  {
   "cell_type": "code",
   "execution_count": 97,
   "metadata": {},
   "outputs": [
    {
     "data": {
      "application/vnd.jupyter.widget-view+json": {
       "model_id": "fd7b3e90b0dc4cadb1016415475c602c",
       "version_major": 2,
       "version_minor": 0
      },
      "text/plain": [
       "VBox(children=(Figure(camera=PerspectiveCamera(fov=45.0, position=(0.0, 0.0, 2.0), quaternion=(0.0, 0.0, 0.0, …"
      ]
     },
     "metadata": {},
     "output_type": "display_data"
    }
   ],
   "source": [
    "#####################################################\n",
    "#AMBIENT LIGHT\n",
    "plot_all(kb=False, wp=True, ts=True)"
   ]
  },
  {
   "cell_type": "code",
   "execution_count": 98,
   "metadata": {},
   "outputs": [
    {
     "name": "stdout",
     "output_type": "stream",
     "text": [
      "ADD AMBIENT LIGHT (from pylab) \n",
      "light_color: white\n",
      "intensity: 1\n"
     ]
    }
   ],
   "source": [
    "#light_color - default white\n",
    "#intensity - default  1\n",
    "ambient1 = p3.ambient_light()"
   ]
  },
  {
   "cell_type": "code",
   "execution_count": 99,
   "metadata": {},
   "outputs": [],
   "source": [
    "ambient1.light_color='red'\n",
    "ambient1.intensity=2.0"
   ]
  },
  {
   "cell_type": "code",
   "execution_count": 100,
   "metadata": {},
   "outputs": [
    {
     "data": {
      "application/vnd.jupyter.widget-view+json": {
       "model_id": "8be096c2afc4435680fd9732532b04a2",
       "version_major": 2,
       "version_minor": 0
      },
      "text/plain": [
       "VBox(children=(Figure(camera=PerspectiveCamera(fov=45.0, position=(0.0, 0.0, 2.0), quaternion=(0.0, 0.0, 0.0, …"
      ]
     },
     "metadata": {},
     "output_type": "display_data"
    }
   ],
   "source": [
    "#####################################################\n",
    "#HEMISPHERE LIGHT\n",
    "#light_color - default white - upper light\n",
    "#light_color2 - default white - bottom light\n",
    "#intensity - default  1\n",
    "#position_x, position_y, position_z - default [0, 1, 0] \n",
    "plot_all(kb=False, wp=True, ts=True)"
   ]
  },
  {
   "cell_type": "code",
   "execution_count": 101,
   "metadata": {},
   "outputs": [
    {
     "name": "stdout",
     "output_type": "stream",
     "text": [
      "ADD HEMISPHERE LIGHT (from pylab) \n",
      "light_color: white\n",
      "light_color2: red\n",
      "intensity: 1\n",
      "position: 0 1 0\n",
      "cast_shadow: False\n"
     ]
    }
   ],
   "source": [
    "hemisphere1 = p3.hemisphere_light()"
   ]
  },
  {
   "cell_type": "code",
   "execution_count": 102,
   "metadata": {},
   "outputs": [],
   "source": [
    "hemisphere1.light_color='orange'\n",
    "hemisphere1.light_color2='blue'\n",
    "hemisphere1.intensity=1.5\n",
    "hemisphere1.position_x = 1\n",
    "hemisphere1.position_y = 0\n",
    "hemisphere1.position_z = 0"
   ]
  },
  {
   "cell_type": "code",
   "execution_count": 103,
   "metadata": {},
   "outputs": [
    {
     "data": {
      "application/vnd.jupyter.widget-view+json": {
       "model_id": "d169f5fefcb54ec59d05614c2003307e",
       "version_major": 2,
       "version_minor": 0
      },
      "text/plain": [
       "VBox(children=(Figure(camera=PerspectiveCamera(fov=45.0, position=(0.0, 0.0, 2.0), quaternion=(0.0, 0.0, 0.0, …"
      ]
     },
     "metadata": {},
     "output_type": "display_data"
    },
    {
     "name": "stdout",
     "output_type": "stream",
     "text": [
      "ADD DIRECTIONAL LIGHT (from pylab) \n",
      "light_color: white\n",
      "intensity: 1\n",
      "position: 0 1 0\n",
      "target: 0 0 0\n",
      "cast_shadow: False\n"
     ]
    }
   ],
   "source": [
    "#####################################################\n",
    "#DIRECTIONAL LIGHT\n",
    "#light_color - default white\n",
    "#intensity - default  1\n",
    "#position_x, position_y, position_z - default [0, 1, 0] \n",
    "#target_x, target_y, target_z - default [0, 0, 0]\n",
    "#cast_shadow - default False\n",
    "#shadow_map_size - default 512\n",
    "#shadow_bias - default -0.0005\n",
    "#shadow_radius - default 1\n",
    "#shadow_camera_near - default 0.5\n",
    "#shadow_camera_far - default 500\n",
    "#shadow_camera_orthographic_size - default 100\n",
    "#shadow_map_type - default 'PCF_SOFT'  - 'BASIC', 'PCF', 'PCF_SOFT'\n",
    "\n",
    "plot_all(kb=True, wp=True, ts=False)\n",
    "directional1=p3.directional_light()\n"
   ]
  },
  {
   "cell_type": "code",
   "execution_count": 104,
   "metadata": {},
   "outputs": [],
   "source": [
    "directional1.light_color='green'\n",
    "directional1.intensity=1.0"
   ]
  },
  {
   "cell_type": "code",
   "execution_count": 105,
   "metadata": {},
   "outputs": [],
   "source": [
    "#light position\n",
    "directional1.position_x=30\n",
    "directional1.position_y=30\n",
    "directional1.position_z=-30\n",
    "#look at position\n",
    "directional1.target_x=0\n",
    "directional1.target_y=-20\n",
    "directional1.target_z=-30"
   ]
  },
  {
   "cell_type": "code",
   "execution_count": 106,
   "metadata": {},
   "outputs": [],
   "source": [
    "#if some shadow settings do not update, due to a THREE.JS issue\n",
    "#the settings should be updated when setting cast_shadow to False, Run cell, turn back to True and Run cell again\n",
    "directional1.cast_shadow=True\n",
    "directional1.shadow_map_size=512\n",
    "directional1.shadow_map_type='PCF_SOFT'\n",
    "#Setting this to values greater than 1 will blur the edges of the shadow.\n",
    "#High values will cause unwanted banding effects in the shadows - a greater mapSize will allow for a higher value to be used here before these effects become visible.\n",
    "#If shadow_map_type is set to PCF_SOFT, radius has no effect and it is recommended to increase softness by decreasing mapSize instead.\n",
    "directional1.radius=10 \n",
    "#solves shadow acne issues\n",
    "directional1.shadow_bias=-0.005\n",
    "directional1.shadow_camera_orthographic_size=100"
   ]
  },
  {
   "cell_type": "code",
   "execution_count": 107,
   "metadata": {},
   "outputs": [
    {
     "data": {
      "application/vnd.jupyter.widget-view+json": {
       "model_id": "1ffbb452174840ad92412ea13f82c228",
       "version_major": 2,
       "version_minor": 0
      },
      "text/plain": [
       "VBox(children=(Figure(camera=PerspectiveCamera(fov=45.0, position=(0.0, 0.0, 2.0), quaternion=(0.0, 0.0, 0.0, …"
      ]
     },
     "metadata": {},
     "output_type": "display_data"
    },
    {
     "name": "stdout",
     "output_type": "stream",
     "text": [
      "ADD POINT LIGHT (from pylab) \n",
      "light_color: white\n",
      "intensity: 1\n",
      "position: 0 1 0\n",
      "distance: 0\n",
      "decay: 1\n",
      "cast_shadow: False\n"
     ]
    }
   ],
   "source": [
    "#####################################################\n",
    "#POINT LIGHT\n",
    "#light_color - default white\n",
    "#intensity - default 1\n",
    "#position_x, position_y, position_z - default [0, 1, 0]\n",
    "#distance - default 0\n",
    "#decay - default 1\n",
    "#cast_shadow - default False\n",
    "#shadow_map_size - default 512\n",
    "#shadow_bias - default -0.0005\n",
    "#shadow_radius - default 1\n",
    "#shadow_camera_near - default 0.5\n",
    "#shadow_camera_far - default 500\n",
    "#shadow_map_type - default 'PCF_SOFT'  - 'BASIC', 'PCF', 'PCF_SOFT'\n",
    "plot_all(kb=True, wp=True, ts=False)\n",
    "point1=p3.point_light()\n"
   ]
  },
  {
   "cell_type": "code",
   "execution_count": 108,
   "metadata": {},
   "outputs": [],
   "source": [
    "point1.position_x=20\n",
    "point1.position_y=20\n",
    "point1.position_z=20"
   ]
  },
  {
   "cell_type": "code",
   "execution_count": 109,
   "metadata": {},
   "outputs": [],
   "source": [
    "point1.distance = 100 # Maximum range of the light. Default is 0 (no limit)."
   ]
  },
  {
   "cell_type": "code",
   "execution_count": 110,
   "metadata": {},
   "outputs": [],
   "source": [
    "# The amount the light dims along the distance of the light. \n",
    "# Default is 1. For physically correct lighting, set this to 2.\n",
    "point1.decay = 0 "
   ]
  },
  {
   "cell_type": "code",
   "execution_count": 111,
   "metadata": {},
   "outputs": [],
   "source": [
    "point1.light_color='blue'\n",
    "point1.intensity=1.5"
   ]
  },
  {
   "cell_type": "code",
   "execution_count": 112,
   "metadata": {},
   "outputs": [],
   "source": [
    "#if some shadow settings do not update, due to a THREE.JS issue\n",
    "#the settings should be updated when setting cast_shadow to False, Run cell, turn back to True and Run cell again\n",
    "point1.cast_shadow=True\n",
    "point1.shadow_map_size=512\n",
    "point1.shadow_map_type='PCF'\n",
    "#Setting this to values greater than 1 will blur the edges of the shadow.\n",
    "#High values will cause unwanted banding effects in the shadows - a greater mapSize will allow for a higher value to be used here before these effects become visible.\n",
    "#If shadow_map_type is set to PCF_SOFT, radius has no effect and it is recommended to increase softness by decreasing mapSize instead.\n",
    "point1.radius=100 \n",
    "#solves shadow acne issues\n",
    "point1.shadow_bias=-0.005"
   ]
  },
  {
   "cell_type": "code",
   "execution_count": 113,
   "metadata": {},
   "outputs": [
    {
     "data": {
      "application/vnd.jupyter.widget-view+json": {
       "model_id": "25adb17047b648fabb2d1c8e49b4d29a",
       "version_major": 2,
       "version_minor": 0
      },
      "text/plain": [
       "VBox(children=(Figure(camera=PerspectiveCamera(fov=45.0, position=(0.0, 0.0, 2.0), quaternion=(0.0, 0.0, 0.0, …"
      ]
     },
     "metadata": {},
     "output_type": "display_data"
    },
    {
     "name": "stdout",
     "output_type": "stream",
     "text": [
      "ADD SPOT LIGHT (from pylab) \n",
      "light_color: white\n",
      "intensity: 1\n",
      "position: 0 1 0\n",
      "target: 0 0 0\n",
      "angle: 1.0471975511965976\n",
      "distance: 0\n",
      "decay: 1\n",
      "penumbra: 0\n",
      "cast_shadow: False\n"
     ]
    }
   ],
   "source": [
    "#####################################################\n",
    "#SPOT LIGHT\n",
    "#light_color - default white\n",
    "#intensity - default 1\n",
    "#position_x, position_y, position_z - default [0, 1, 0]\n",
    "#target_x, target_y, target_z - default [0, 0, 0]\n",
    "#angle - default math.pi/3\n",
    "#distance - default 0\n",
    "#decay - default 1\n",
    "#penumbra - default 0\n",
    "#cast_shadow - default False\n",
    "#shadow_map_size - default 512\n",
    "#shadow_bias - default -0.0005\n",
    "#shadow_radius - default 1\n",
    "#shadow_camera_near - default 0.5\n",
    "#shadow_camera_far - default 500\n",
    "#shadow_camera_perspective_fov - default 50\n",
    "#shadow_camera_perspective_aspect - default 1\n",
    "#shadow_map_type - default 'PCF_SOFT' - 'BASIC', 'PCF', 'PCF_SOFT'\n",
    "\n",
    "plot_all(kb=True, wp=True, ts=False)\n",
    "spot1=p3.spot_light()\n"
   ]
  },
  {
   "cell_type": "code",
   "execution_count": 114,
   "metadata": {},
   "outputs": [],
   "source": [
    "spot1.light_color='yellow' \n",
    "spot1.intensity=1\n",
    "spot1.position_x=20\n",
    "spot1.position_y=30\n",
    "spot1.position_z=20\n",
    "\n",
    "spot1.target_x=-20\n",
    "spot1.target_y=-20\n",
    "spot1.target_z=-20\n",
    "\n",
    "spot1.angle=math.pi/9"
   ]
  },
  {
   "cell_type": "code",
   "execution_count": 115,
   "metadata": {},
   "outputs": [],
   "source": [
    "#Default mode — When distance is zero, light does not attenuate. \n",
    "#When distance is non-zero, light will attenuate linearly from maximum intensity at the \n",
    "#light's position down to zero at this distance from the light.\n",
    "\n",
    "#Physically correct mode — When distance is zero, light will attenuate according to inverse-square law to infinite distance. \n",
    "#When distance is non-zero, light will attenuate according to inverse-square law until near the distance cutoff, \n",
    "#where it will then attenuate quickly and smoothly to 0. Inherently, cutoffs are not physically correct.\n",
    "#Default is 0.0.\n",
    "\n",
    "spot1.distance=200"
   ]
  },
  {
   "cell_type": "code",
   "execution_count": 92,
   "metadata": {},
   "outputs": [],
   "source": [
    "#The amount the light dims along the distance of the light.\n",
    "#In physically correct mode, decay = 2 leads to physically realistic light falloff. The default is 1.\n",
    "#spot1.decay=0"
   ]
  },
  {
   "cell_type": "code",
   "execution_count": 117,
   "metadata": {},
   "outputs": [],
   "source": [
    "# Percent of the spotlight cone that is attenuated due to penumbra. \n",
    "# Takes values between zero and 1. The default is 0.0.\n",
    "spot1.penumbra=0.5"
   ]
  },
  {
   "cell_type": "code",
   "execution_count": 118,
   "metadata": {},
   "outputs": [],
   "source": [
    "#if some shadow settings do not update, due to a THREE.JS issue\n",
    "#the settings should be updated when setting cast_shadow to False, Run cell, turn back to True and Run cell again\n",
    "spot1.cast_shadow=True\n",
    "spot1.shadow_map_size=1024\n",
    "spot1.shadow_map_type='PCF_SOFT'\n",
    "\n",
    "spot1.shadow_camera_perspective_fov=50\n",
    "#change the shadow camera aspect\n",
    "shadow_camera_perspective_aspect=1\n",
    "\n",
    "#Setting this to values greater than 1 will blur the edges of the shadow.\n",
    "#High values will cause unwanted banding effects in the shadows - a greater mapSize will allow for a higher value to be used here before these effects become visible.\n",
    "#If shadow_map_type is set to PCF_SOFT, radius has no effect and it is recommended to increase softness by decreasing mapSize instead.\n",
    "spot1.radius=5 \n",
    "#solves shadow acne issues\n",
    "spot1.shadow_bias=-0.0005"
   ]
  },
  {
   "cell_type": "code",
   "execution_count": null,
   "metadata": {},
   "outputs": [],
   "source": []
  },
  {
   "cell_type": "code",
   "execution_count": 9,
   "metadata": {},
   "outputs": [],
   "source": []
  },
  {
   "cell_type": "code",
   "execution_count": null,
   "metadata": {},
   "outputs": [],
   "source": [
    "\n"
   ]
  },
  {
   "cell_type": "code",
   "execution_count": 26,
   "metadata": {},
   "outputs": [],
   "source": []
  },
  {
   "cell_type": "code",
   "execution_count": 25,
   "metadata": {},
   "outputs": [],
   "source": []
  },
  {
   "cell_type": "code",
   "execution_count": null,
   "metadata": {},
   "outputs": [],
   "source": []
  },
  {
   "cell_type": "code",
   "execution_count": null,
   "metadata": {},
   "outputs": [],
   "source": []
  },
  {
   "cell_type": "code",
   "execution_count": null,
   "metadata": {},
   "outputs": [],
   "source": []
  },
  {
   "cell_type": "code",
   "execution_count": null,
   "metadata": {},
   "outputs": [],
   "source": [
    "def head2(draw=True, show=True, max_shape=256):\n",
    "    \"\"\"Show a volumetric rendering of a human male head.\"\"\"\n",
    "    # inspired by http://graphicsrunner.blogspot.com/2009/01/volume-rendering-102-transfer-functions.html\n",
    "    import ipyvolume as ipv\n",
    "    from scipy.interpolate import interp1d\n",
    "\n",
    "    # First part is a simpler version of setting up the transfer function. Interpolation with higher order\n",
    "    # splines does not work well, the original must do sth different\n",
    "    colors = [[0.91, 0.7, 0.61, 0.0], [0.91, 0.7, 0.61, 80.0], [1.0, 1.0, 0.85, 82.0], [1.0, 1.0, 0.85, 256]]\n",
    "    x = np.array([k[-1] for k in colors])\n",
    "    rgb = np.array([k[:3] for k in colors])\n",
    "    N = 256\n",
    "    xnew = np.linspace(0, 256, N)\n",
    "    tf_data = np.zeros((N, 4))\n",
    "    kind = 'linear'\n",
    "    for channel in range(3):\n",
    "        f = interp1d(x, rgb[:, channel], kind=kind)\n",
    "        ynew = f(xnew)\n",
    "        tf_data[:, channel] = ynew\n",
    "    alphas = [[0, 0], [0, 40], [0.2, 60], [0.05, 63], [0, 80], [0.9, 82], [1.0, 256]]\n",
    "    x = np.array([k[1] * 1.0 for k in alphas])\n",
    "    y = np.array([k[0] * 1.0 for k in alphas])\n",
    "    f = interp1d(x, y, kind=kind)\n",
    "    ynew = f(xnew)\n",
    "    tf_data[:, 3] = ynew\n",
    "    tf = ipv.TransferFunction(rgba=tf_data.astype(np.float32))\n",
    "\n",
    "    head_data = ipv.datasets.head.fetch().data\n",
    "    if draw:\n",
    "        vol = ipv.volshow(head_data, tf=tf, max_shape=max_shape)\n",
    "        if show:\n",
    "            ipv.show()\n",
    "        return vol\n",
    "    else:\n",
    "        return head_data\n",
    "    \n",
    "p3.clear()\n",
    "head2()"
   ]
  },
  {
   "cell_type": "code",
   "execution_count": null,
   "metadata": {},
   "outputs": [],
   "source": []
  }
 ],
 "metadata": {
  "kernelspec": {
   "display_name": "Python 3",
   "language": "python",
   "name": "python3"
  },
  "language_info": {
   "codemirror_mode": {
    "name": "ipython",
    "version": 3
   },
   "file_extension": ".py",
   "mimetype": "text/x-python",
   "name": "python",
   "nbconvert_exporter": "python",
   "pygments_lexer": "ipython3",
   "version": "3.7.4"
  }
 },
 "nbformat": 4,
 "nbformat_minor": 2
}
