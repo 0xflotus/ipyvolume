{
 "cells": [
  {
   "cell_type": "code",
   "execution_count": 21,
   "metadata": {
    "collapsed": true
   },
   "outputs": [],
   "source": [
    "import ipyvolume\n",
    "import ipywidgets\n"
   ]
  },
  {
   "cell_type": "code",
   "execution_count": 25,
   "metadata": {
    "collapsed": false
   },
   "outputs": [],
   "source": [
    "v = ipyvolume.Volume(opacity2=0.1, opacity3=0)"
   ]
  },
  {
   "cell_type": "code",
   "execution_count": 26,
   "metadata": {
    "collapsed": false
   },
   "outputs": [],
   "source": [
    "l1 = ipywidgets.FloatSlider(min=0, max=1, value=v.level1)\n",
    "l2 = ipywidgets.FloatSlider(min=0, max=1, value=v.level2)\n",
    "o1 = ipywidgets.FloatSlider(min=0, max=0.1, step=0.01, value=v.opacity1)\n",
    "o2 = ipywidgets.FloatSlider(min=0, max=0.1, step=0.01, value=v.opacity2)\n",
    "ipywidgets.jslink((v, 'level1'), (l1, 'value'))\n",
    "ipywidgets.jslink((v, 'level2'), (l2, 'value'))\n",
    "ipywidgets.jslink((v, 'opacity1'), (o1, 'value'))\n",
    "ipywidgets.jslink((v, 'opacity2'), (o2, 'value'))\n",
    "ipywidgets.VBox(\n",
    "    [ipywidgets.HBox([l1, l2]), ipywidgets.HBox([o1, o2]), v ]\n",
    "    )\n"
   ]
  },
  {
   "cell_type": "code",
   "execution_count": null,
   "metadata": {
    "collapsed": true
   },
   "outputs": [],
   "source": []
  }
 ],
 "metadata": {
  "anaconda-cloud": {},
  "kernelspec": {
   "display_name": "Python [default]",
   "language": "python",
   "name": "python3"
  },
  "language_info": {
   "codemirror_mode": {
    "name": "ipython",
    "version": 3
   },
   "file_extension": ".py",
   "mimetype": "text/x-python",
   "name": "python",
   "nbconvert_exporter": "python",
   "pygments_lexer": "ipython3",
   "version": "3.5.2"
  },
  "widgets": {
   "state": {
    "22daad9dcbc0469d80418551ff675dd8": {
     "views": [
      {
       "cell_index": 2
      }
     ]
    }
   },
   "version": "1.2.0"
  }
 },
 "nbformat": 4,
 "nbformat_minor": 1
}
