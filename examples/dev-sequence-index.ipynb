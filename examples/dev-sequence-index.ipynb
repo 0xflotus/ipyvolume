{
 "cells": [
  {
   "cell_type": "code",
   "execution_count": 2,
   "metadata": {
    "collapsed": true,
    "deletable": true,
    "editable": true
   },
   "outputs": [],
   "source": [
    "import ipyvolume\n",
    "import ipywidgets"
   ]
  },
  {
   "cell_type": "code",
   "execution_count": 3,
   "metadata": {
    "collapsed": false,
    "deletable": true,
    "editable": true
   },
   "outputs": [
    {
     "data": {
      "application/javascript": [
       "require.onResourceLoad = function(context, map)\n",
       "{\n",
       "    console.log(\"loading \" +map.name)\n",
       "    require.undef(map.name);\n",
       "};\n",
       "require.undef(\"nbextensions/ipyvolume/index\")\n",
       "require([\"nbextensions/ipyvolume/index\"])"
      ],
      "text/plain": [
       "<IPython.core.display.Javascript object>"
      ]
     },
     "metadata": {},
     "output_type": "display_data"
    }
   ],
   "source": [
    "%%javascript\n",
    "require.onResourceLoad = function(context, map)\n",
    "{\n",
    "    console.log(\"loading \" +map.name)\n",
    "    require.undef(map.name);\n",
    "};\n",
    "require.undef(\"nbextensions/ipyvolume/index\")\n",
    "require([\"nbextensions/ipyvolume/index\"])"
   ]
  },
  {
   "cell_type": "code",
   "execution_count": 38,
   "metadata": {
    "collapsed": false,
    "deletable": true,
    "editable": true
   },
   "outputs": [
    {
     "name": "stdout",
     "output_type": "stream",
     "text": [
      "10 4 ['#f00', '#ff7100', '#ffe300', '#af0', '#39ff00', '#00ff39', '#0fa', '#00e3ff', '#0071ff', '#00f']\n"
     ]
    },
    {
     "data": {
      "application/vnd.jupyter.widget-view+json": {
       "model_id": "8ab3eeda607747f8aaa572c9a9693b04"
      }
     },
     "metadata": {},
     "output_type": "display_data"
    }
   ],
   "source": [
    "from ipywidgets import interact, fixed,interact_manual,IntSlider,VBox,jslink\n",
    "import numpy as np\n",
    "import ipyvolume\n",
    "import ipyvolume.pylab as p3\n",
    "import numpy as np\n",
    "from colour import Color\n",
    "\n",
    "f = p3.figure()\n",
    "f.animation = 100\n",
    "\n",
    "#x,y,z are two dimentionnal array with the first dimension being time\n",
    "x = np.array([ 2 * t + np.arange(10) for t in range(5)])\n",
    "y = x**2\n",
    "z = 3 * x\n",
    "\n",
    "p3.xlim(0, np.max(x))\n",
    "p3.ylim(0, np.max(y))\n",
    "p3.zlim(0, np.max(z))\n",
    "\n",
    "time = 0\n",
    "red = Color(\"red\")\n",
    "blue = Color(\"blue\")\n",
    "green = Color(\"green\")\n",
    "purple = Color(\"purple\")\n",
    "yellow = Color(\"Yellow\")\n",
    "\n",
    "multi_colors = [c.hex for c in red.range_to(blue, 10)]\n",
    "\"\"\"\n",
    "multi_colors = []\n",
    "r1 = [red,blue,green,purple,yellow]\n",
    "for c1,c2 in zip(r1,r1[::-1]):\n",
    "    multi_colors.append([c.hex for c in c1.range_to(c2, 10)])\n",
    "        \"\"\"\n",
    "#multi_colors = [\"rgb(100,0,%i)\"%(10*i) for i in range(10)]\n",
    "print(len(multi_colors),len(multi_colors[0]),multi_colors)\n",
    "s = p3.scatter(x,y,z,vx=x,vy=y,vz=z, s=0.05,color=\"rgb(1,0,200)\",sequence_index=0)#,multi_colors=multi_colors)\n",
    "\n",
    "time = IntSlider(min=0, max=6, step=1)\n",
    "\n",
    "jslink((s, 'sequence_index'), (time, 'value'))\n",
    "\n",
    "vbox = VBox([p3.gcc(),time])\n",
    "vbox"
   ]
  },
  {
   "cell_type": "code",
   "execution_count": 26,
   "metadata": {
    "collapsed": false,
    "deletable": true,
    "editable": true
   },
   "outputs": [],
   "source": [
    "ipyvolume.embed.embed_html(\"time.html\",vbox)"
   ]
  },
  {
   "cell_type": "code",
   "execution_count": 37,
   "metadata": {
    "collapsed": false,
    "deletable": true,
    "editable": true
   },
   "outputs": [
    {
     "data": {
      "application/vnd.jupyter.widget-view+json": {
       "model_id": "8a03a3b2b50648549f691a8919bcfb9e"
      }
     },
     "metadata": {},
     "output_type": "display_data"
    }
   ],
   "source": [
    "\n",
    "from ipywidgets import interact, fixed,interact_manual,IntSlider,VBox\n",
    "import numpy as np\n",
    "import ipyvolume\n",
    "import ipyvolume.pylab as p3\n",
    "import numpy as np\n",
    "\n",
    "f = p3.figure()\n",
    "f.animation = 1000\n",
    "\n",
    "#x,y,z are two dimentionnal array with the first dimension being time\n",
    "x = np.array([ 2 * t + np.arange(10) for t in range(5)])\n",
    "y = x**2\n",
    "z = 3 * x\n",
    "\n",
    "p3.xlim(0, np.max(x))\n",
    "p3.ylim(0, np.max(y))\n",
    "p3.zlim(0, np.max(z))\n",
    "\n",
    "time = 0\n",
    "s = p3.scatter(x[time],y[time],z[time], s=0.05,color=\"rgb(1,0,200)\")\n",
    "\"\"\"\n",
    "def toi(time): \n",
    "    s.x = x[time]\n",
    "    s.y = y[time]\n",
    "    s.z = z[time]\n",
    "    \n",
    "time= IntSlider(min=0,max=4,step=1,value=0)\n",
    "it = interact(toi,time=time)\n",
    "\"\"\"\n",
    "VBox([p3.gcc()])\n"
   ]
  },
  {
   "cell_type": "code",
   "execution_count": 21,
   "metadata": {
    "collapsed": true,
    "deletable": true,
    "editable": true
   },
   "outputs": [],
   "source": [
    "ipyvolume.embed.embed_html(\"test.html\",vbox)"
   ]
  },
  {
   "cell_type": "code",
   "execution_count": null,
   "metadata": {
    "collapsed": true,
    "deletable": true,
    "editable": true
   },
   "outputs": [],
   "source": []
  }
 ],
 "metadata": {
  "anaconda-cloud": {},
  "kernelspec": {
   "display_name": "Python 3",
   "language": "python",
   "name": "python3"
  },
  "language_info": {
   "codemirror_mode": {
    "name": "ipython",
    "version": 3
   },
   "file_extension": ".py",
   "mimetype": "text/x-python",
   "name": "python",
   "nbconvert_exporter": "python",
   "pygments_lexer": "ipython3",
   "version": "3.5.2"
  }
 },
 "nbformat": 4,
 "nbformat_minor": 2
}
