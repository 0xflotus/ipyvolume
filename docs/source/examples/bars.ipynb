{
 "cells": [
  {
   "cell_type": "markdown",
   "metadata": {},
   "source": [
    "# Bar charts\n",
    "This is 'abusing' the scatter object to create a 3d bar chart"
   ]
  },
  {
   "cell_type": "code",
   "execution_count": null,
   "metadata": {
    "ExecuteTime": {
     "end_time": "2020-04-01T21:03:58.133444Z",
     "start_time": "2020-04-01T21:03:56.115776Z"
    }
   },
   "outputs": [],
   "source": [
    "import ipyvolume as ipv\n",
    "import numpy as np"
   ]
  },
  {
   "cell_type": "code",
   "execution_count": null,
   "metadata": {
    "ExecuteTime": {
     "end_time": "2020-04-01T21:03:58.143735Z",
     "start_time": "2020-04-01T21:03:58.135535Z"
    }
   },
   "outputs": [],
   "source": [
    "# set up data similar to animation notebook\n",
    "\n",
    "N = 25\n",
    "u_scale = 10\n",
    "u = np.linspace(-u_scale, u_scale, N)\n",
    "x, y = np.meshgrid(u, u)\n",
    "r = np.sqrt(x**2+y**2)\n",
    "x = x.flatten()\n",
    "y = y.flatten()\n",
    "r = r.flatten()\n",
    "\n",
    "time = np.linspace(0, np.pi*2, 15)\n",
    "z = np.array([(np.cos(r + t) * np.exp(-r/5)) for t in time])\n",
    "zz = z"
   ]
  },
  {
   "cell_type": "code",
   "execution_count": null,
   "metadata": {
    "ExecuteTime": {
     "end_time": "2020-04-01T21:03:58.155530Z",
     "start_time": "2020-04-01T21:03:58.147448Z"
    }
   },
   "outputs": [],
   "source": [
    "\n",
    "nu = nv = 25\n",
    "u = np.linspace(0, 1, nu)\n",
    "v = np.linspace(0, 1, nv)\n",
    "u, v = np.meshgrid(u, v)\n",
    "phi = u * 2 * np.pi\n",
    "theta = v * np.pi\n",
    "radius = 1\n",
    "xs = radius * np.cos(phi) * np.sin(theta)\n",
    "ys = radius * np.sin(phi) * np.sin(theta)\n",
    "zs = radius * np.cos(theta)\n",
    "\n",
    "xs = xs.flatten()\n",
    "ys = ys.flatten()\n",
    "zs = zs.flatten()\n"
   ]
  },
  {
   "cell_type": "code",
   "execution_count": null,
   "metadata": {
    "ExecuteTime": {
     "end_time": "2020-04-01T21:03:58.211592Z",
     "start_time": "2020-04-01T21:03:58.158450Z"
    }
   },
   "outputs": [],
   "source": [
    "fig = ipv.figure()\n",
    "s = ipv.scatter(x, 0, y, aux=zz, marker=\"sphere\")\n",
    "dx = (u_scale*2/N)\n",
    "ipv.xlim(-u_scale-dx/2, 10+dx/2)\n",
    "ipv.zlim(-10-dx/2, 10+dx/2)\n",
    "ipv.ylim(-1.2, 1.2)\n",
    "ipv.show()"
   ]
  },
  {
   "cell_type": "markdown",
   "metadata": {},
   "source": [
    "We now make boxes, that fit exactly in the volume, but are 100% height"
   ]
  },
  {
   "cell_type": "code",
   "execution_count": null,
   "metadata": {
    "ExecuteTime": {
     "end_time": "2020-04-01T21:03:58.218913Z",
     "start_time": "2020-04-01T21:03:58.214011Z"
    }
   },
   "outputs": [],
   "source": [
    "s.geo = 'box'\n",
    "s.size = 100\n",
    "scale = 1/N\n",
    "# so we scale in x and z direction, and transform 0.5 in y, so the box scales only up\n",
    "s.geo_matrix = [scale, 0, 0, 0,   0, 1, 0, 0,   0, 0, scale, 0,  0.0, 0.5, 0, 1]"
   ]
  },
  {
   "cell_type": "markdown",
   "metadata": {},
   "source": [
    "And we use the shader snippet to scale the the y size (which was 100%), according to the y scale."
   ]
  },
  {
   "cell_type": "code",
   "execution_count": null,
   "metadata": {
    "ExecuteTime": {
     "end_time": "2020-04-01T21:03:58.223531Z",
     "start_time": "2020-04-01T21:03:58.220635Z"
    }
   },
   "outputs": [],
   "source": [
    "s.shader_snippets = {'size':\n",
    " 'size_vectorial.y = SCALE_Y(aux_current) - SCALE_Y(0.0) ; '\n",
    "}\n"
   ]
  },
  {
   "cell_type": "code",
   "execution_count": null,
   "metadata": {
    "ExecuteTime": {
     "end_time": "2020-04-01T21:03:58.227768Z",
     "start_time": "2020-04-01T21:03:58.225442Z"
    }
   },
   "outputs": [],
   "source": [
    "# since we see the boxes with negative sizes inside out, we made the material double sided\n",
    "s.material.side = \"DoubleSide\""
   ]
  },
  {
   "cell_type": "code",
   "execution_count": null,
   "metadata": {
    "ExecuteTime": {
     "end_time": "2020-04-01T21:03:58.238717Z",
     "start_time": "2020-04-01T21:03:58.231095Z"
    }
   },
   "outputs": [],
   "source": [
    "# Now also include, color, which containts rgb values\n",
    "color = np.array([[np.cos(r + t), 1-np.abs(z[i]), 0.1+z[i]*0] for i, t in enumerate(time)])\n",
    "color = np.transpose(color, (0, 2, 1)) # flip the last axes\n",
    "s.color = color"
   ]
  },
  {
   "cell_type": "code",
   "execution_count": null,
   "metadata": {
    "ExecuteTime": {
     "end_time": "2020-04-01T21:03:58.260405Z",
     "start_time": "2020-04-01T21:03:58.240703Z"
    }
   },
   "outputs": [],
   "source": [
    "ipv.animation_control(s, interval=200)"
   ]
  },
  {
   "cell_type": "markdown",
   "metadata": {},
   "source": [
    "\n",
    "# Spherical bar charts"
   ]
  },
  {
   "cell_type": "code",
   "execution_count": null,
   "metadata": {
    "ExecuteTime": {
     "end_time": "2020-04-01T21:03:58.266875Z",
     "start_time": "2020-04-01T21:03:58.262207Z"
    }
   },
   "outputs": [],
   "source": [
    "# Create spherical coordinates\n",
    "u = np.linspace(0, 1, N)\n",
    "v = np.linspace(0, 1, N)\n",
    "u, v = np.meshgrid(u, v)\n",
    "phi = u * 2 * np.pi\n",
    "theta = v * np.pi\n",
    "radius = 1\n",
    "xs = radius * np.cos(phi) * np.sin(theta)\n",
    "ys = radius * np.sin(phi) * np.sin(theta)\n",
    "zs = radius * np.cos(theta)\n",
    "xs = xs.flatten()\n",
    "ys = ys.flatten()\n",
    "zs = zs.flatten()\n"
   ]
  },
  {
   "cell_type": "code",
   "execution_count": null,
   "metadata": {
    "ExecuteTime": {
     "end_time": "2020-04-01T21:03:58.338051Z",
     "start_time": "2020-04-01T21:03:58.268672Z"
    }
   },
   "outputs": [],
   "source": [
    "fig = ipv.figure()\n",
    "# we use the coordinates as the normals, and thus direction\n",
    "s = ipv.scatter(xs, ys, zs, vx=xs, vy=ys, vz=zs, aux=zz-zz.min(), color=color, marker=\"box\")\n",
    "ipv.xyzlim(2)\n",
    "ipv.show()"
   ]
  },
  {
   "cell_type": "code",
   "execution_count": null,
   "metadata": {
    "ExecuteTime": {
     "end_time": "2020-04-01T21:03:58.362024Z",
     "start_time": "2020-04-01T21:03:58.339981Z"
    }
   },
   "outputs": [],
   "source": [
    "ipv.animation_control(s, interval=200)\n"
   ]
  },
  {
   "cell_type": "code",
   "execution_count": null,
   "metadata": {
    "ExecuteTime": {
     "end_time": "2020-04-01T21:03:58.369468Z",
     "start_time": "2020-04-01T21:03:58.364299Z"
    }
   },
   "outputs": [],
   "source": [
    "# TODO: we use the Y scale, but we should add and use an aux scale\n",
    "s.shader_snippets = {'size':\n",
    " '''float sc = SCALE_Y(aux_current) - SCALE_Y(0.0); size_vectorial = vec3(sc, sc, sc);;\n",
    " '''}\n",
    "s.material.side = \"DoubleSide\"\n",
    "s.size = 100\n",
    "scale = 1/24\n",
    "s.geo_matrix = [scale, 0, 0, 0,   0, 1, 0, 0,   0, 0, scale, 0,  0.0, 0.5, 0, 1]"
   ]
  },
  {
   "cell_type": "markdown",
   "metadata": {},
   "source": [
    "[screenshot](screenshot/bars.gif)"
   ]
  }
 ],
 "metadata": {
  "kernelspec": {
   "display_name": "Python 3",
   "language": "python",
   "name": "python3"
  },
  "language_info": {
   "codemirror_mode": {
    "name": "ipython",
    "version": 3
   },
   "file_extension": ".py",
   "mimetype": "text/x-python",
   "name": "python",
   "nbconvert_exporter": "python",
   "pygments_lexer": "ipython3",
   "version": "3.7.3"
  }
 },
 "nbformat": 4,
 "nbformat_minor": 2
}
